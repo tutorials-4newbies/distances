{
 "cells": [
  {
   "cell_type": "markdown",
   "metadata": {},
   "source": [
    "# Red alert\n",
    "\n",
    "![Missile batttle](./imgs/missile_picture.jpg)"
   ]
  },
  {
   "cell_type": "markdown",
   "metadata": {},
   "source": [
    "### Given the coordinates from the radar, what is the closest places?\n",
    "\n",
    "How can we know which alerts to activate?\n"
   ]
  },
  {
   "cell_type": "markdown",
   "metadata": {},
   "source": [
    "## Euclidaen distance\n",
    "\n",
    "In mathematics, the Euclidean distance between two points in Euclidean space is the length of a line segment between the two points. It can be calculated from the Cartesian coordinates of the points using the Pythagorean theorem, therefore occasionally being called the Pythagorean distance."
   ]
  },
  {
   "cell_type": "markdown",
   "metadata": {},
   "source": [
    "### Pythagoras to the rescue\n",
    "Pythagoras to the rescue:\n",
    "\n",
    "![Pythagoras](./imgs/pythagoras.jpg)\n",
    "\n",
    "Pythagoras most famous theorem:\n",
    "\n",
    ">The Pythagorean theorem consists of a formula a^2+b^2=c^2 which is used to figure out the value of (mostly) the hypotenuse in a right triangle. The a and b are the 2 \"non-hypotenuse\" sides of the triangle (Opposite and Adjacent).\n",
    "\n"
   ]
  },
  {
   "cell_type": "code",
   "execution_count": 5,
   "metadata": {},
   "outputs": [
    {
     "data": {
      "text/html": [
       "<img src=\"./imgs/Pythagorean.svg\" width=\"200\" height=\"200\"/>"
      ],
      "text/plain": [
       "<IPython.core.display.Image object>"
      ]
     },
     "execution_count": 5,
     "metadata": {},
     "output_type": "execute_result"
    }
   ],
   "source": [
    "from IPython.display import Image\n",
    "Image(url=\"./imgs/Pythagorean.svg\", height=200, width=200)"
   ]
  },
  {
   "cell_type": "code",
   "execution_count": 9,
   "metadata": {},
   "outputs": [],
   "source": [
    "class Point:\n",
    "    def __init__(self, x, y):\n",
    "        self.x = x # lets imagine think \n",
    "        self.y = y\n",
    "\n",
    "tel_aviv = Point(1,4)\n",
    "ashdod = Point(1,2)\n",
    "ashkelon = Point(1, 0)\n",
    "haifa = Point(1, 8)\n",
    "jerusalem = Point(3, 4)\n",
    "beersheva = Point(3, 0)\n",
    "ein_gedi = Point(4, 4)\n",
    "\n",
    "targets = [tel_aviv, ashdod, ashkelon, haifa, jerusalem,beersheva ,ein_gedi]"
   ]
  },
  {
   "cell_type": "code",
   "execution_count": null,
   "metadata": {},
   "outputs": [],
   "source": [
    "def get_distance(first:Point, second:Point):\n",
    "    pass\n",
    "\n",
    "result = get_distance(ein_gedi, tel_aviv) \n",
    "assert result == 3.0"
   ]
  },
  {
   "cell_type": "code",
   "execution_count": 11,
   "metadata": {},
   "outputs": [
    {
     "ename": "AssertionError",
     "evalue": "",
     "output_type": "error",
     "traceback": [
      "\u001b[0;31m---------------------------------------------------------------------------\u001b[0m",
      "\u001b[0;31mAssertionError\u001b[0m                            Traceback (most recent call last)",
      "\u001b[0;32m<ipython-input-11-4ac546a359f2>\u001b[0m in \u001b[0;36m<module>\u001b[0;34m\u001b[0m\n\u001b[1;32m     13\u001b[0m \u001b[0;34m\u001b[0m\u001b[0m\n\u001b[1;32m     14\u001b[0m \u001b[0mresult\u001b[0m \u001b[0;34m=\u001b[0m \u001b[0malerter\u001b[0m\u001b[0;34m(\u001b[0m\u001b[0mPoint\u001b[0m\u001b[0;34m(\u001b[0m\u001b[0;36m3\u001b[0m\u001b[0;34m,\u001b[0m\u001b[0;36m1\u001b[0m\u001b[0;34m)\u001b[0m\u001b[0;34m)\u001b[0m\u001b[0;34m\u001b[0m\u001b[0;34m\u001b[0m\u001b[0m\n\u001b[0;32m---> 15\u001b[0;31m \u001b[0;32massert\u001b[0m \u001b[0mresult\u001b[0m \u001b[0;34m==\u001b[0m \u001b[0;34m[\u001b[0m\u001b[0mbeersheva\u001b[0m\u001b[0;34m]\u001b[0m\u001b[0;34m\u001b[0m\u001b[0;34m\u001b[0m\u001b[0m\n\u001b[0m",
      "\u001b[0;31mAssertionError\u001b[0m: "
     ]
    }
   ],
   "source": [
    "\"\"\" \n",
    "Given a point of missle hit as a Point\n",
    "and given we need to alert everything in distance of 1\n",
    "Which cities should we alert? use the get_distance method\n",
    "\"\"\"\n",
    "from typing import List\n",
    "\n",
    "ALERT_DISTANCE = 2\n",
    "\n",
    "def alerter(expected_hit:Point)->List[Point]:\n",
    "    pass\n",
    "\n",
    "\n",
    "result = alerter(Point(3,1))\n",
    "\n",
    "assert result == [beersheva]"
   ]
  },
  {
   "cell_type": "code",
   "execution_count": 13,
   "metadata": {},
   "outputs": [],
   "source": [
    "# What happens when it's more then two dimensional space?\n",
    "\n",
    "class MultiDimensionPoint:\n",
    "    def __init__(self, *args):\n",
    "        self.args = args\n",
    "        \n",
    "def get_multi_dimensional_distance(first:Point, second:Point):\n",
    "    pass\n",
    "\n",
    "p1 = MultiDimensionPoint(1,3, 5,7, 9)\n",
    "p2 = MultiDimensionPoint(2, 2, -1 , 5, 2)"
   ]
  },
  {
   "cell_type": "markdown",
   "metadata": {},
   "source": [
    "## Now we need to dispatch first responder teams to the hit.\n",
    "\n",
    "### We need to tell them the distance they'll need to drive\n",
    "\n",
    "* Is the Euclidean distance a good solution for that? discuss"
   ]
  },
  {
   "cell_type": "code",
   "execution_count": null,
   "metadata": {},
   "outputs": [],
   "source": []
  }
 ],
 "metadata": {
  "kernelspec": {
   "display_name": "Python 3",
   "language": "python",
   "name": "python3"
  },
  "language_info": {
   "codemirror_mode": {
    "name": "ipython",
    "version": 3
   },
   "file_extension": ".py",
   "mimetype": "text/x-python",
   "name": "python",
   "nbconvert_exporter": "python",
   "pygments_lexer": "ipython3",
   "version": "3.8.1"
  }
 },
 "nbformat": 4,
 "nbformat_minor": 4
}
