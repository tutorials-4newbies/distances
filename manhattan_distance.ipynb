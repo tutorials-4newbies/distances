{
 "cells": [
  {
   "cell_type": "markdown",
   "metadata": {},
   "source": [
    "# Manhattan distance\n",
    "\n",
    "Also known as Taxi drive distance, city block distance, etc\n",
    "\n",
    ">A taxicab geometry is a form of geometry in which the usual distance function or metric of Euclidean geometry is replaced by a new metric in which the distance between two points is the sum of the absolute differences of their Cartesian coordinates. The taxicab metric is also known as rectilinear distance, L1 distance, L1 distance or , snake distance, city block distance, Manhattan distance or Manhattan length, with corresponding variations in the name of the geometry. The latter names allude to the grid layout of most streets on the island of Manhattan, which causes the shortest path a car could take between two intersections in the borough to have length equal to the intersections' distance in taxicab geometry. [from wikipedia](https://en.wikipedia.org/wiki/Taxicab_geometry)"
   ]
  },
  {
   "cell_type": "code",
   "execution_count": 1,
   "metadata": {},
   "outputs": [
    {
     "data": {
      "text/html": [
       "<img src=\"./imgs/Manhattan_distance.svg\" width=\"200\" height=\"200\"/>"
      ],
      "text/plain": [
       "<IPython.core.display.Image object>"
      ]
     },
     "execution_count": 1,
     "metadata": {},
     "output_type": "execute_result"
    }
   ],
   "source": [
    "from IPython.display import Image\n",
    "Image(url=\"./imgs/Manhattan_distance.svg\", height=200, width=200)\n"
   ]
  },
  {
   "cell_type": "markdown",
   "metadata": {},
   "source": [
    "## Manhatten vs euclidean\n",
    "\n",
    "![Diagram](./imgs/diagram_euclidean_manhattan_distance_metrics.gif)\n",
    "\n",
    "## Definition:\n",
    "> Manhattan Distance is the sum of **absolute** differences between points across all the dimensions.\n",
    "\n"
   ]
  },
  {
   "cell_type": "code",
   "execution_count": null,
   "metadata": {},
   "outputs": [],
   "source": [
    "class Point:\n",
    "    def __init__(self, x, y):\n",
    "        self.x = x # lets imagine think \n",
    "        self.y = y\n",
    "\n",
    "tel_aviv = Point(1,4)\n",
    "ashdod = Point(1,2)\n",
    "ashkelon = Point(1, 0)\n",
    "haifa = Point(1, 8)\n",
    "jerusalem = Point(3, 4)\n",
    "beersheva = Point(3, 0)\n",
    "ein_gedi = Point(4, 4)"
   ]
  },
  {
   "cell_type": "code",
   "execution_count": null,
   "metadata": {},
   "outputs": [],
   "source": [
    "def resolve_distance(first:Point, second:Point):\n",
    "    \"\"\"\n",
    "    With manhatten distance\n",
    "    \"\"\"\n",
    "    pass\n",
    "\n",
    "result = resolve_distance(ashkelon, haifa)\n",
    "assert result == 8"
   ]
  }
 ],
 "metadata": {
  "kernelspec": {
   "display_name": "Python 3",
   "language": "python",
   "name": "python3"
  },
  "language_info": {
   "codemirror_mode": {
    "name": "ipython",
    "version": 3
   },
   "file_extension": ".py",
   "mimetype": "text/x-python",
   "name": "python",
   "nbconvert_exporter": "python",
   "pygments_lexer": "ipython3",
   "version": "3.8.1"
  }
 },
 "nbformat": 4,
 "nbformat_minor": 4
}
